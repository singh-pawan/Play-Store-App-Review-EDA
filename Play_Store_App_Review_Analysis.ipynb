{
  "nbformat": 4,
  "nbformat_minor": 0,
  "metadata": {
    "colab": {
      "private_outputs": true,
      "provenance": [],
      "collapsed_sections": [
        "vncDsAP0Gaoa",
        "FJNUwmbgGyua",
        "w6K7xa23Elo4",
        "yQaldy8SH6Dl",
        "PH-0ReGfmX4f",
        "mDgbUHAGgjLW",
        "O_i_v8NEhb9l",
        "HhfV-JJviCcP",
        "Y3lxredqlCYt",
        "3RnN4peoiCZX",
        "x71ZqKXriCWQ",
        "7hBIi_osiCS2",
        "JlHwYmJAmNHm",
        "35m5QtbWiB9F",
        "PoPl-ycgm1ru",
        "H0kj-8xxnORC",
        "nA9Y7ga8ng1Z",
        "PBTbrJXOngz2",
        "u3PMJOP6ngxN",
        "dauF4eBmngu3",
        "bKJF3rekwFvQ",
        "MSa1f5Uengrz",
        "GF8Ens_Soomf",
        "0wOQAZs5pc--",
        "K5QZ13OEpz2H",
        "lQ7QKXXCp7Bj",
        "448CDAPjqfQr",
        "KSlN3yHqYklG",
        "t6dVpIINYklI",
        "ijmpgYnKYklI",
        "-JiQyfWJYklI",
        "EM7whBJCYoAo",
        "fge-S5ZAYoAp",
        "85gYPyotYoAp",
        "RoGjAbkUYoAp",
        "4Of9eVA-YrdM",
        "iky9q4vBYrdO",
        "F6T5p64dYrdO",
        "y-Ehk30pYrdP",
        "bamQiAODYuh1",
        "QHF8YVU7Yuh3",
        "GwzvFGzlYuh3",
        "qYpmQ266Yuh3",
        "OH-pJp9IphqM",
        "bbFf2-_FphqN",
        "_ouA3fa0phqN",
        "Seke61FWphqN",
        "PIIx-8_IphqN",
        "t27r6nlMphqO",
        "r2jJGEOYphqO",
        "b0JNsNcRphqO",
        "BZR9WyysphqO",
        "jj7wYXLtphqO",
        "eZrbJ2SmphqO",
        "rFu4xreNphqO",
        "YJ55k-q6phqO",
        "gCFgpxoyphqP",
        "OVtJsKN_phqQ",
        "lssrdh5qphqQ",
        "U2RJ9gkRphqQ",
        "1M8mcRywphqQ",
        "tgIPom80phqQ",
        "JMzcOPDDphqR",
        "x-EpHcCOp1ci",
        "X_VqEhTip1ck",
        "8zGJKyg5p1ck",
        "PVzmfK_Ep1ck",
        "n3dbpmDWp1ck",
        "ylSl6qgtp1ck",
        "ZWILFDl5p1ck",
        "M7G43BXep1ck",
        "Ag9LCva-p1cl",
        "E6MkPsBcp1cl",
        "2cELzS2fp1cl",
        "3MPXvC8up1cl",
        "NC_X3p0fY2L0",
        "UV0SzAkaZNRQ",
        "YPEH6qLeZNRQ",
        "q29F0dvdveiT",
        "EXh0U9oCveiU",
        "22aHeOlLveiV",
        "JcMwzZxoAimU",
        "8G2x9gOozGDZ",
        "gCX9965dhzqZ",
        "gIfDvo9L0UH2"
      ],
      "include_colab_link": true
    },
    "kernelspec": {
      "name": "python3",
      "display_name": "Python 3"
    },
    "language_info": {
      "name": "python"
    }
  },
  "cells": [
    {
      "cell_type": "markdown",
      "metadata": {
        "id": "view-in-github",
        "colab_type": "text"
      },
      "source": [
        "<a href=\"https://colab.research.google.com/github/singh-pawan/Play-Store-App-Review-EDA/blob/main/Play_Store_App_Review_Analysis.ipynb\" target=\"_parent\"><img src=\"https://colab.research.google.com/assets/colab-badge.svg\" alt=\"Open In Colab\"/></a>"
      ]
    },
    {
      "cell_type": "markdown",
      "source": [
        "# **Project Name**    - Play Store App Review Analysis\n",
        "\n"
      ],
      "metadata": {
        "id": "vncDsAP0Gaoa"
      }
    },
    {
      "cell_type": "markdown",
      "source": [
        "##### **Project Type**    - EDA\n",
        "##### **Contribution**    - Team\n",
        "##### **Team Member 1 -** Shiva Singh\n",
        "##### **Team Member 2 -** Pawan Kumar"
      ],
      "metadata": {
        "id": "beRrZCGUAJYm"
      }
    },
    {
      "cell_type": "markdown",
      "source": [
        "# **Project Summary -**"
      ],
      "metadata": {
        "id": "FJNUwmbgGyua"
      }
    },
    {
      "cell_type": "markdown",
      "source": [
        "The Play Store App Review Analysis EDA Project is a comprehensive examination of user reviews from the Google Play Store. Its primary goal is to gain valuable insights into user sentiments, uncover common issues, and provide recommendations for app developers to enhance their applications. This project involves various stages, including data collection, preprocessing, exploratory data analysis (EDA), visualization, and the extraction of actionable insights.\n",
        "\n",
        "**Data Collection:**\n",
        "\n",
        "The project begins by obtaining a dataset of app reviews from the Play Store. This dataset typically includes key information such as review text, user ratings, dates, and potentially other metadata. Data collection methods can involve web scraping tools or access to publicly available datasets.\n",
        "\n",
        "**Data Preprocessing:**\n",
        "\n",
        "Data preprocessing is a crucial step in ensuring the quality of the dataset. This involves cleaning the data by removing duplicates, addressing missing values, and converting data types when necessary. Additionally, text preprocessing techniques are applied to the review text, including tokenization, the removal of special characters and stopwords, and lemmatization or stemming.\n",
        "\n",
        "**Exploratory Data Analysis (EDA):**\n",
        "\n",
        "EDA is the heart of the project, where various analytical techniques are applied to extract insights from the dataset. This includes calculating descriptive statistics such as mean, median, and standard deviation for ratings. Distribution analysis is conducted through visualizations like histograms and box plots to assess overall user sentiment. Time analysis helps identify trends and seasonality in reviews over time. Word clouds are generated to visualize the most common words in positive and negative reviews, while sentiment analysis techniques classify reviews as positive, negative, or neutral. Topic modeling is also employed to uncover common themes or topics within the reviews.\n",
        "\n",
        "**Visualization:**\n",
        "\n",
        "Effective data visualization is employed to communicate findings clearly. Word clouds visualize frequently mentioned words in positive and negative reviews. Bar charts or pie charts display the distribution of sentiments (positive, negative, neutral), providing a quick overview of user sentiment trends. Line charts track changes in app ratings and sentiments over time, helping to identify patterns and fluctuations.\n",
        "\n",
        "***Conclusion:***\n",
        "\n",
        "In conclusion, the Play Store App Review Analysis EDA Project is a data-driven initiative aimed at helping app developers better understand user sentiments and improve their applications. The project encompasses data collection, preprocessing, exploratory data analysis, visualization, and the extraction of actionable insights. The recommendations and findings are essential for developers to enhance their apps and cater to user needs effectively."
      ],
      "metadata": {
        "id": "F6v_1wHtG2nS"
      }
    },
    {
      "cell_type": "markdown",
      "source": [
        "# **GitHub Link -**"
      ],
      "metadata": {
        "id": "w6K7xa23Elo4"
      }
    },
    {
      "cell_type": "markdown",
      "source": [
        "[GitHub Link](https://github.com/singh-pawan/Play-Store-App-Review-EDA)"
      ],
      "metadata": {
        "id": "h1o69JH3Eqqn"
      }
    },
    {
      "cell_type": "markdown",
      "source": [
        "# **Problem Statement**\n"
      ],
      "metadata": {
        "id": "yQaldy8SH6Dl"
      }
    },
    {
      "cell_type": "markdown",
      "source": [
        "Explore and analyze the data to discover key factors responsible for app engagement and success."
      ],
      "metadata": {
        "id": "DpeJGUA3kjGy"
      }
    },
    {
      "cell_type": "markdown",
      "source": [
        "#### **Define Your Business Objective?**"
      ],
      "metadata": {
        "id": "PH-0ReGfmX4f"
      }
    },
    {
      "cell_type": "markdown",
      "source": [
        "The objective of this project is to help app developers and businesses understand what factors make their apps successful. By analyzing the play_store_data and user_review_data datasets, we will identify relevant KPIs. This information will be used to provide insights and recommendations on how to improve app engagement, retain users, increase revenue, and enhance marketing strategies. Ultimately, my goal is to help businesses create successful apps that satisfy their customers and drive growth."
      ],
      "metadata": {
        "id": "PhDvGCAqmjP1"
      }
    },
    {
      "cell_type": "markdown",
      "source": [
        "# **General Guidelines** : -  "
      ],
      "metadata": {
        "id": "mDgbUHAGgjLW"
      }
    },
    {
      "cell_type": "markdown",
      "source": [
        "1.   Well-structured, formatted, and commented code is required.\n",
        "2.   Exception Handling, Production Grade Code & Deployment Ready Code will be a plus. Those students will be awarded some additional credits.\n",
        "     \n",
        "     The additional credits will have advantages over other students during Star Student selection.\n",
        "       \n",
        "             [ Note: - Deployment Ready Code is defined as, the whole .ipynb notebook should be executable in one go\n",
        "                       without a single error logged. ]\n",
        "\n",
        "3.   Each and every logic should have proper comments.\n",
        "4. You may add as many number of charts you want. Make Sure for each and every chart the following format should be answered.\n",
        "        \n",
        "\n",
        "```\n",
        "# Chart visualization code\n",
        "```\n",
        "            \n",
        "\n",
        "*   Why did you pick the specific chart?\n",
        "*   What is/are the insight(s) found from the chart?\n",
        "* Will the gained insights help creating a positive business impact?\n",
        "Are there any insights that lead to negative growth? Justify with specific reason.\n",
        "\n",
        "5. You have to create at least 20 logical & meaningful charts having important insights.\n",
        "\n",
        "\n",
        "[ Hints : - Do the Vizualization in  a structured way while following \"UBM\" Rule.\n",
        "\n",
        "U - Univariate Analysis,\n",
        "\n",
        "B - Bivariate Analysis (Numerical - Categorical, Numerical - Numerical, Categorical - Categorical)\n",
        "\n",
        "M - Multivariate Analysis\n",
        " ]\n",
        "\n",
        "\n",
        "\n"
      ],
      "metadata": {
        "id": "ZrxVaUj-hHfC"
      }
    },
    {
      "cell_type": "markdown",
      "source": [
        "# ***Let's Begin !***"
      ],
      "metadata": {
        "id": "O_i_v8NEhb9l"
      }
    },
    {
      "cell_type": "markdown",
      "source": [
        "## ***1. Know Your Data***"
      ],
      "metadata": {
        "id": "HhfV-JJviCcP"
      }
    },
    {
      "cell_type": "markdown",
      "source": [
        "### Import Libraries"
      ],
      "metadata": {
        "id": "Y3lxredqlCYt"
      }
    },
    {
      "cell_type": "code",
      "source": [
        "# Import Libraries\n",
        "import numpy as np\n",
        "import pandas as pd\n",
        "import seaborn as sns\n",
        "import matplotlib.pyplot as plt"
      ],
      "metadata": {
        "id": "M8Vqi-pPk-HR"
      },
      "execution_count": null,
      "outputs": []
    },
    {
      "cell_type": "markdown",
      "source": [
        "### Dataset Loading"
      ],
      "metadata": {
        "id": "3RnN4peoiCZX"
      }
    },
    {
      "cell_type": "code",
      "source": [
        "# Load Dataset\n",
        "from google.colab import drive\n",
        "drive.mount('/content/drive')"
      ],
      "metadata": {
        "id": "4CkvbW_SlZ_R"
      },
      "execution_count": null,
      "outputs": []
    },
    {
      "cell_type": "markdown",
      "source": [
        "### **1st Step: Data Cleaning on Play Store dataset**"
      ],
      "metadata": {
        "id": "Q9uHAG2Okf-h"
      }
    },
    {
      "cell_type": "code",
      "source": [
        "play_store_data = pd.read_csv('/content/drive/MyDrive/EDA PROJECT/Play Store App Review EDA/Play Store Data (1).csv')"
      ],
      "metadata": {
        "id": "T8984T64khIs"
      },
      "execution_count": null,
      "outputs": []
    },
    {
      "cell_type": "markdown",
      "source": [
        "### Dataset First View"
      ],
      "metadata": {
        "id": "x71ZqKXriCWQ"
      }
    },
    {
      "cell_type": "code",
      "source": [
        "# Dataset First Look to showing first 10 rows of play_store_data\n",
        "play_store_data.head(10)"
      ],
      "metadata": {
        "id": "LWNFOSvLl09H"
      },
      "execution_count": null,
      "outputs": []
    },
    {
      "cell_type": "code",
      "source": [
        "# using tail() to showing last 10 rows of play_store_data\n",
        "play_store_data.tail(10)"
      ],
      "metadata": {
        "id": "M3ENdXbDlAcA"
      },
      "execution_count": null,
      "outputs": []
    },
    {
      "cell_type": "markdown",
      "source": [
        "### Dataset Rows & Columns count"
      ],
      "metadata": {
        "id": "7hBIi_osiCS2"
      }
    },
    {
      "cell_type": "code",
      "source": [
        "# counting the rows & columns of play_store_data\n",
        "play_store_data.shape"
      ],
      "metadata": {
        "id": "Kllu7SJgmLij"
      },
      "execution_count": null,
      "outputs": []
    },
    {
      "cell_type": "markdown",
      "source": [
        "### Dataset Information"
      ],
      "metadata": {
        "id": "JlHwYmJAmNHm"
      }
    },
    {
      "cell_type": "code",
      "source": [
        "# looking the info of play_store_data\n",
        "play_store_data.info()"
      ],
      "metadata": {
        "id": "e9hRXRi6meOf"
      },
      "execution_count": null,
      "outputs": []
    },
    {
      "cell_type": "markdown",
      "source": [
        "#### Duplicate Values"
      ],
      "metadata": {
        "id": "35m5QtbWiB9F"
      }
    },
    {
      "cell_type": "code",
      "source": [
        "# counting the dublicate values of play_store_data\n",
        "len(play_store_data[play_store_data.duplicated()])"
      ],
      "metadata": {
        "id": "1sLdpKYkmox0"
      },
      "execution_count": null,
      "outputs": []
    },
    {
      "cell_type": "markdown",
      "source": [
        "#### Missing Values/Null Values"
      ],
      "metadata": {
        "id": "PoPl-ycgm1ru"
      }
    },
    {
      "cell_type": "code",
      "source": [
        "# counting the missing values/null values of play_store_data\n",
        "print(play_store_data.isnull().sum())"
      ],
      "metadata": {
        "id": "GgHWkxvamxVg"
      },
      "execution_count": null,
      "outputs": []
    },
    {
      "cell_type": "code",
      "source": [
        "# now visualizing the missing values of play_store_data using seaborn heatmap\n",
        "sns.heatmap(play_store_data.isnull(), cbar=False)"
      ],
      "metadata": {
        "id": "3q5wnI3om9sJ"
      },
      "execution_count": null,
      "outputs": []
    },
    {
      "cell_type": "markdown",
      "source": [
        "### What did you know about your dataset?"
      ],
      "metadata": {
        "id": "H0kj-8xxnORC"
      }
    },
    {
      "cell_type": "markdown",
      "source": [
        "As we can see above, here are\n",
        "\n",
        "\n",
        "1.   1474 missing values in the Rating column\n",
        "2.   1 missing value in the Type column\n",
        "3.   1 missing value in the Content Rating column\n",
        "4.   3 missing values in the Android Ver column\n",
        "\n",
        "So there are rows in the dataset that have missing values in these columns, which could potentially affect any analysis or modeling. It is important to handle these missing values appropriately.:"
      ],
      "metadata": {
        "id": "gfoNAAC-nUe_"
      }
    },
    {
      "cell_type": "markdown",
      "source": [
        "## ***2. Understanding Your Variables***"
      ],
      "metadata": {
        "id": "nA9Y7ga8ng1Z"
      }
    },
    {
      "cell_type": "code",
      "source": [
        "# loading the dataset columns of play_store_data\n",
        "play_store_data.columns"
      ],
      "metadata": {
        "id": "j7xfkqrt5Ag5"
      },
      "execution_count": null,
      "outputs": []
    },
    {
      "cell_type": "markdown",
      "source": [
        "The dataset has 13 columns are identified as below:\n",
        "\n",
        "1. **App** - Title of the app.\n",
        "\n",
        "2. **Category** - Category for each app.\n",
        "\n",
        "3. **Rating** - Rating given by the users.\n",
        "\n",
        "4. **Reviews** - Reviews given by the users.\n",
        "\n",
        "5. **Size** - The size of the application.\n",
        "\n",
        "6. **Installs** - How much installation and downloads done.\n",
        "\n",
        "7. **Type** - The application is free or paid version.\n",
        "\n",
        "8. **Price** - The price of the app on Play Store.\n",
        "\n",
        "9. **Content Rating** - Suitable for all age groups or not.\n",
        "\n",
        "10. **Genres** - The various other categories.\n",
        "\n",
        "11. **Last Updated** - When the application was updated.\n",
        "\n",
        "12. **Current Ver** - Current version of the application.\n",
        "13.**Android Ver** - Supportable android version for application."
      ],
      "metadata": {
        "id": "HyHOpXWamGLw"
      }
    },
    {
      "cell_type": "code",
      "source": [
        "# describing the play_store_data\n",
        "play_store_data.describe()"
      ],
      "metadata": {
        "id": "DnOaZdaE5Q5t"
      },
      "execution_count": null,
      "outputs": []
    },
    {
      "cell_type": "markdown",
      "source": [
        "### Variables Description"
      ],
      "metadata": {
        "id": "PBTbrJXOngz2"
      }
    },
    {
      "cell_type": "markdown",
      "source": [
        "It shows the Statistical Summary of the Play Store.\n",
        "\n",
        "* **Count:** the number of non-null values 9367\n",
        "* **Mean:** the average value of the column is 4.193338\n",
        "* **Std:** the standard deviation of the column is 0.537431\n",
        "* **Min:** the minimum value in the column is 1.000000\n",
        "* **25%:** the first quartile value (25th percentile) of the column is 4.000000\n",
        "* **50%:** the median value (50th percentile) of the column is 4.300000\n",
        "* **75%:** the third quartile value (75th percentile) of the column is 4.500000\n",
        "* **Max:** the maximum value in the column is 19.000000"
      ],
      "metadata": {
        "id": "aJV4KIxSnxay"
      }
    },
    {
      "cell_type": "markdown",
      "source": [
        "### Check Unique Values for each variable."
      ],
      "metadata": {
        "id": "u3PMJOP6ngxN"
      }
    },
    {
      "cell_type": "code",
      "source": [
        "# Now checking the unique values for each variable in play_store_data\n",
        "for i in play_store_data.columns.tolist():\n",
        "  print(\"Unique values in\",i,\"is\",play_store_data[i].nunique())"
      ],
      "metadata": {
        "id": "zms12Yq5n-jE"
      },
      "execution_count": null,
      "outputs": []
    },
    {
      "cell_type": "markdown",
      "source": [
        "## 3. ***Data Wrangling***"
      ],
      "metadata": {
        "id": "dauF4eBmngu3"
      }
    },
    {
      "cell_type": "markdown",
      "source": [
        "### Data Wrangling Code"
      ],
      "metadata": {
        "id": "bKJF3rekwFvQ"
      }
    },
    {
      "cell_type": "code",
      "source": [
        "# creating a new empty dataframe to new variable\n",
        "play_store_data_new = pd.DataFrame(index=play_store_data.columns)\n",
        "\n",
        "# now adding datatype, not_null, and null columns to play_store_data_new\n",
        "play_store_data_new[\"DataType\"] = play_store_data.dtypes\n",
        "play_store_data_new[\"not_null\"] = play_store_data.count()\n",
        "play_store_data_new[\"null\"] = play_store_data.isnull().sum()\n",
        "\n",
        "# printing the dataframe\n",
        "play_store_data_new"
      ],
      "metadata": {
        "id": "wk-9a2fpoLcV"
      },
      "execution_count": null,
      "outputs": []
    },
    {
      "cell_type": "code",
      "source": [
        "# checking the rating of play_store_data\n",
        "play_store_data.boxplot()"
      ],
      "metadata": {
        "id": "EHGrNSnmmn4j"
      },
      "execution_count": null,
      "outputs": []
    },
    {
      "cell_type": "code",
      "source": [
        "play_store_data[(play_store_data['Rating'] <1) | (play_store_data['Rating']>5)]"
      ],
      "metadata": {
        "id": "eUscfgFbmtty"
      },
      "execution_count": null,
      "outputs": []
    },
    {
      "cell_type": "markdown",
      "source": [
        "**There is some problem is this row**\n",
        "    \n",
        "*   The app rating is 19\n",
        "*   NaN values present in the Content Rating and Android Ver    \n",
        "\n",
        "That is why we're droping this row"
      ],
      "metadata": {
        "id": "ep82qU76m0xt"
      }
    },
    {
      "cell_type": "code",
      "source": [
        "# now we're removing the above row from play_store_data\n",
        "play_store_data.drop(10472,axis=0,inplace=True)"
      ],
      "metadata": {
        "id": "C94yEJz7CRi8"
      },
      "execution_count": null,
      "outputs": []
    },
    {
      "cell_type": "code",
      "source": [
        "# Time to check it is removed or not\n",
        "play_store_data.boxplot();"
      ],
      "metadata": {
        "id": "61GNj0pHCxUJ"
      },
      "execution_count": null,
      "outputs": []
    },
    {
      "cell_type": "markdown",
      "source": [
        "In this play store dataset, there is still 1474 null values in \"Rating\" that is why we have to fix them so for this first we find the mean and median"
      ],
      "metadata": {
        "id": "z_5r67awC2kF"
      }
    },
    {
      "cell_type": "code",
      "source": [
        "# finding the mean of Rating column from play_store_data\n",
        "rating_mean = play_store_data['Rating'].mean()\n",
        "print(f\"The mean of Rating column is {rating_mean}\")\n",
        "\n",
        "# now finding the median of Rating column from play_store_data\n",
        "rating_median = play_store_data['Rating'].median()\n",
        "print(f\"The median of Rating column is {rating_median}\")"
      ],
      "metadata": {
        "id": "1wb43uO7C3Y2"
      },
      "execution_count": null,
      "outputs": []
    },
    {
      "cell_type": "markdown",
      "source": [
        "\n",
        "*   The mean of Rating Column comes to be 4.2\n",
        "*   The Median of Rating Column comes to be 4.3\n",
        "\n",
        "Here is not much difference between mean and median, that's why we'll replace all the null values with median because it shows that 50% of apps have more than 4.3 rating"
      ],
      "metadata": {
        "id": "Sz_YP8v6DAMc"
      }
    },
    {
      "cell_type": "code",
      "source": [
        "# filling all the null values by the median in Rating column of play_store_data\n",
        "play_store_data['Rating'].fillna(value=rating_median,inplace=True)"
      ],
      "metadata": {
        "id": "sXGytjgZDBH2"
      },
      "execution_count": null,
      "outputs": []
    },
    {
      "cell_type": "code",
      "source": [
        "# Time to check the null values is filled or not\n",
        "print(play_store_data.isnull().sum())"
      ],
      "metadata": {
        "id": "plBbZ9wRDFFQ"
      },
      "execution_count": null,
      "outputs": []
    },
    {
      "cell_type": "markdown",
      "source": [
        "Now, there are still some problems that we have to fix...\n",
        "\n",
        "*   The Type has 1 NaN value.\n",
        "*   The current Var contains 8 NaN values.\n",
        "*   The Android Var contains 2 NaN values."
      ],
      "metadata": {
        "id": "xdFj1EMfDMpA"
      }
    },
    {
      "cell_type": "code",
      "source": [
        "# checking the Type's NaN value in Type column of play_store_data\n",
        "play_store_data[(play_store_data['Type'].isnull())]"
      ],
      "metadata": {
        "id": "mczNaDTPDLtj"
      },
      "execution_count": null,
      "outputs": []
    },
    {
      "cell_type": "markdown",
      "source": [
        "\n",
        "In the Type, the price is 0, so basically it is a free app, in this metter we replace that NaN value with Free."
      ],
      "metadata": {
        "id": "AHXMPffSDVO_"
      }
    },
    {
      "cell_type": "code",
      "source": [
        "# counting the free and paid versions of applications in play_store_data\n",
        "play_store_data['Type'].value_counts()"
      ],
      "metadata": {
        "id": "BJROKeDHDWIJ"
      },
      "execution_count": null,
      "outputs": []
    },
    {
      "cell_type": "code",
      "source": [
        "# now we replace the NaN value of Type\n",
        "play_store_data.loc[9148,'Type']='Free'"
      ],
      "metadata": {
        "id": "6Ge5vdJaDi_a"
      },
      "execution_count": null,
      "outputs": []
    },
    {
      "cell_type": "code",
      "source": [
        "# Time to check it is fixed or not\n",
        "play_store_data[(play_store_data['Type'].isnull())]"
      ],
      "metadata": {
        "id": "QqZPxx0zDlCH"
      },
      "execution_count": null,
      "outputs": []
    },
    {
      "cell_type": "code",
      "source": [
        "# Time to fix the Current Ver's null values in play_store_data\n",
        "play_store_data[(play_store_data['Current Ver'].isnull())]"
      ],
      "metadata": {
        "id": "5VqIB-zqDsiK"
      },
      "execution_count": null,
      "outputs": []
    },
    {
      "cell_type": "markdown",
      "source": [
        "\n",
        "At above, the Current Ver has NaN values, in this metter we'll drop NaN values."
      ],
      "metadata": {
        "id": "KURJLL2zDxhs"
      }
    },
    {
      "cell_type": "code",
      "source": [
        "# droping all the NaN values of Current Ver column from play_store_data\n",
        "play_store_data.drop([15,1553,6322,6803,7333,7407,7730,10342],axis=0,inplace=True)"
      ],
      "metadata": {
        "id": "6I1Nmgz7DyXL"
      },
      "execution_count": null,
      "outputs": []
    },
    {
      "cell_type": "code",
      "source": [
        "# Time to check all the Nan values are droped or not\n",
        "play_store_data[(play_store_data['Current Ver'].isnull())]"
      ],
      "metadata": {
        "id": "odZ51SBmD3F_"
      },
      "execution_count": null,
      "outputs": []
    },
    {
      "cell_type": "code",
      "source": [
        "# checking the Android Ver's NaN value which is shown when we used this commmand: print(play_store_data.isnull().sum())\n",
        "play_store_data[(play_store_data['Android Ver'].isnull())]"
      ],
      "metadata": {
        "id": "dmXYH4qMD_CE"
      },
      "execution_count": null,
      "outputs": []
    },
    {
      "cell_type": "markdown",
      "source": [
        "At this, the Android Ver has NaN values, in this metter we'll drop NaN values also."
      ],
      "metadata": {
        "id": "MjOgj1rDEDlg"
      }
    },
    {
      "cell_type": "code",
      "source": [
        "# droping the NaN values of Android Ver column from play_store_data\n",
        "play_store_data.drop([4453,4490],axis=0,inplace=True)"
      ],
      "metadata": {
        "id": "Ku4Ojj1mEEi-"
      },
      "execution_count": null,
      "outputs": []
    },
    {
      "cell_type": "code",
      "source": [
        "# Time to check these Nan values are droped or not\n",
        "play_store_data[(play_store_data['Android Ver'].isnull())]"
      ],
      "metadata": {
        "id": "MxZiqqswEKOE"
      },
      "execution_count": null,
      "outputs": []
    },
    {
      "cell_type": "markdown",
      "source": [
        "### **Time to Handle all Data Types for Every Columns**"
      ],
      "metadata": {
        "id": "kzArcEX_Fp-W"
      }
    },
    {
      "cell_type": "code",
      "source": [
        "# checking the data type in Size column in play_store_data\n",
        "play_store_data['Size']"
      ],
      "metadata": {
        "id": "g8z7I-JuFust"
      },
      "execution_count": null,
      "outputs": []
    },
    {
      "cell_type": "markdown",
      "source": [
        "\n",
        "The \"Size\" has different units.\n",
        "\n",
        "*   M means MB\n",
        "*   K means KB\n",
        "\n",
        "So We'll fix this using convert them into single unit."
      ],
      "metadata": {
        "id": "K7jUyY_GF167"
      }
    },
    {
      "cell_type": "code",
      "source": [
        "# checking the data type in Price column in play_store_data\n",
        "play_store_data['Price'].value_counts()"
      ],
      "metadata": {
        "id": "cbsrNV2WF5tf"
      },
      "execution_count": null,
      "outputs": []
    },
    {
      "cell_type": "markdown",
      "source": [
        "The $ sign maybe a problem in \"Price\" so We'll remove them."
      ],
      "metadata": {
        "id": "oJuvVpPCGCwL"
      }
    },
    {
      "cell_type": "code",
      "source": [
        "# checking the data type in Installs column in play_store_data\n",
        "play_store_data['Installs'].value_counts()"
      ],
      "metadata": {
        "id": "jIvuApIlGDs8"
      },
      "execution_count": null,
      "outputs": []
    },
    {
      "cell_type": "markdown",
      "source": [
        "In this \"Installs\" we have to remove these signs: +(plus) and ,(comma)"
      ],
      "metadata": {
        "id": "y5I9UcRCGSSZ"
      }
    },
    {
      "cell_type": "code",
      "source": [
        "# we're trying to remove +(plus) and ,(comma) from Installs\n",
        "def remove_from_install(a):\n",
        "    if type(a) == str:\n",
        "        a = a.replace(',', '').replace('+', '')\n",
        "    return a\n",
        "\n",
        "play_store_data['Installs'] = play_store_data['Installs'].apply(remove_from_install)"
      ],
      "metadata": {
        "id": "o2g2FhrrGVLj"
      },
      "execution_count": null,
      "outputs": []
    },
    {
      "cell_type": "code",
      "source": [
        "# we're trying to remove dollar sign from Price\n",
        "def remove_from_price(b):\n",
        "    if type(b) == str and '$' in b:\n",
        "        b = b.replace('$', '')\n",
        "    return b\n",
        "\n",
        "play_store_data['Price'] = play_store_data['Price'].apply(remove_from_price)"
      ],
      "metadata": {
        "id": "FRwh0xNlGWgP"
      },
      "execution_count": null,
      "outputs": []
    },
    {
      "cell_type": "code",
      "source": [
        "# now we're converting 'Reviews' to numeric in play_store_data\n",
        "play_store_data['Reviews'] = play_store_data['Reviews'].astype(float)\n",
        "\n",
        "# cleaning and converting 'Size' to numeric\n",
        "def clean_size(x):\n",
        "    if 'Varies with device' in str(x):\n",
        "        return np.nan\n",
        "    elif 'k' in str(x):\n",
        "        return float(str(x).replace('k', '')) / 1024\n",
        "    else:\n",
        "        return float(str(x).replace('M', ''))\n",
        "\n",
        "\n",
        "play_store_data['Size'] = play_store_data['Size'].apply(clean_size)\n",
        "\n",
        "# cleaning and converting 'Installs' to numeric\n",
        "play_store_data['Installs'] = play_store_data['Installs'].replace('[^\\d]', '', regex=True).astype(float)\n",
        "\n",
        "\n",
        "# cleaning and converting 'Price' to numeric\n",
        "play_store_data['Price'] = play_store_data['Price'].replace('[^\\d\\.]', '', regex=True).astype(float)\n",
        "\n",
        "# time to print\n",
        "play_store_data.info()"
      ],
      "metadata": {
        "id": "7nu6wciOGbRx"
      },
      "execution_count": null,
      "outputs": []
    },
    {
      "cell_type": "markdown",
      "source": [
        "### **Time to Remove Duplicate Apps**"
      ],
      "metadata": {
        "id": "mww3YVnpGkf4"
      }
    },
    {
      "cell_type": "code",
      "source": [
        "# using head()\n",
        "play_store_data.head(10)"
      ],
      "metadata": {
        "id": "XiwzxZE9Gnqk"
      },
      "execution_count": null,
      "outputs": []
    },
    {
      "cell_type": "code",
      "source": [
        "# checking the values of App from play_store_data\n",
        "play_store_data['App'].value_counts()"
      ],
      "metadata": {
        "id": "NHt1cxa4GsXY"
      },
      "execution_count": null,
      "outputs": []
    },
    {
      "cell_type": "code",
      "source": [
        "# calculating the duplicate value in \"App\" column in play_store_data\n",
        "play_store_data['App'].duplicated().sum()"
      ],
      "metadata": {
        "id": "4kEZB4QXGw_Q"
      },
      "execution_count": null,
      "outputs": []
    },
    {
      "cell_type": "markdown",
      "source": [
        "Here are 1181 dublicates values in column which we'll remove."
      ],
      "metadata": {
        "id": "3MI9mbyQGyw_"
      }
    },
    {
      "cell_type": "code",
      "source": [
        "# dropping duplicates value in \"App\" in play_store_data\n",
        "play_store_data.drop_duplicates(subset='App',inplace=True)"
      ],
      "metadata": {
        "id": "jfwrADbQG0_C"
      },
      "execution_count": null,
      "outputs": []
    },
    {
      "cell_type": "code",
      "source": [
        "# time to check duplicates are removed or not\n",
        "play_store_data['App'].duplicated().sum()"
      ],
      "metadata": {
        "id": "Ig2gu1GzG7mu"
      },
      "execution_count": null,
      "outputs": []
    },
    {
      "cell_type": "markdown",
      "source": [
        "## **Summary**\n",
        "\n",
        "*   All duplicates values removed from dataset.\n",
        "*   All null values are removed or replaced.  \n",
        "*   Converted the datatypes of the particular column and also removed all the unwanted characters."
      ],
      "metadata": {
        "id": "y944RhwMHE2e"
      }
    },
    {
      "cell_type": "markdown",
      "source": [
        "### **2nd Step: Data Cleaning on User Review dataset**"
      ],
      "metadata": {
        "id": "aGyrODhpHIxU"
      }
    },
    {
      "cell_type": "code",
      "source": [
        "# now we're importing the User Reviews.csv from Google Drive as user_reviews_data\n",
        "user_reviews_data = pd.read_csv('/content/drive/MyDrive/EDA PROJECT/Play Store App Review EDA/User Reviews (1).csv')"
      ],
      "metadata": {
        "id": "M8fryXbpHNXD"
      },
      "execution_count": null,
      "outputs": []
    },
    {
      "cell_type": "code",
      "source": [
        "# using head() to show top 10 rows of user_reviews_data\n",
        "user_reviews_data.head(10)"
      ],
      "metadata": {
        "id": "B8SJAvUNH6Vc"
      },
      "execution_count": null,
      "outputs": []
    },
    {
      "cell_type": "code",
      "source": [
        "# using tail() to show last 10 rows of user_reviews_data\n",
        "user_reviews_data.tail(10)"
      ],
      "metadata": {
        "id": "E8Y7N0Z1H_q_"
      },
      "execution_count": null,
      "outputs": []
    },
    {
      "cell_type": "code",
      "source": [
        "# checking the shape (number of rows and columns) of user_reviews_data\n",
        "user_reviews_data.shape"
      ],
      "metadata": {
        "id": "-TxwEhwSIEKL"
      },
      "execution_count": null,
      "outputs": []
    },
    {
      "cell_type": "code",
      "source": [
        "# checking the columns of user_reviews_data\n",
        "user_reviews_data.columns"
      ],
      "metadata": {
        "id": "ScW-GCMzIIXL"
      },
      "execution_count": null,
      "outputs": []
    },
    {
      "cell_type": "markdown",
      "source": [
        "# The dataset has 5 columns are identified as below:\n",
        "\n",
        "\n",
        "1.   **App:** Title of the application.\n",
        "2.   **Translated_Review:** It contains the English translation of the review.\n",
        "3.   **Sentiment:** It gives the emotion like ‘Positive’, ‘Negative’, or ‘Neutral’.\n",
        "4.   **Sentiment_Polarity:** It gives the polarity of the review. Its range is [-1,1], where 1 means ‘Positive statement’ and -1 means a ‘Negative statement’.\n",
        "5.    **Sentiment_Subjectivity:** This value gives how close a reviewers opinion is to the opinion of the general public. Its range is[0,1]."
      ],
      "metadata": {
        "id": "_-U0bz6MIMne"
      }
    },
    {
      "cell_type": "code",
      "source": [
        "# using the info of user_reviews_data\n",
        "user_reviews_data.info()"
      ],
      "metadata": {
        "id": "H4sR9c_GIQ50"
      },
      "execution_count": null,
      "outputs": []
    },
    {
      "cell_type": "code",
      "source": [
        "# creating a new empty dataframe to new variable\n",
        "user_reviews_data_new = pd.DataFrame(index=user_reviews_data.columns)\n",
        "\n",
        "# now adding datatype, not_null, and null columns to user_reviews_data_new\n",
        "user_reviews_data_new[\"DataType\"] = user_reviews_data.dtypes\n",
        "user_reviews_data_new[\"not_null\"] = user_reviews_data.count()\n",
        "user_reviews_data_new[\"null\"] = user_reviews_data.isnull().sum()\n",
        "\n",
        "# printing the dataframe\n",
        "user_reviews_data_new"
      ],
      "metadata": {
        "id": "2NnyzdJdISeJ"
      },
      "execution_count": null,
      "outputs": []
    },
    {
      "cell_type": "code",
      "source": [
        "# finding the NaN value of Sentiment_Polarity column in user_reviews_data\n",
        "user_reviews_data[(user_reviews_data['Sentiment_Polarity'].isnull())]"
      ],
      "metadata": {
        "id": "eIuxDZnKIa5O"
      },
      "execution_count": null,
      "outputs": []
    },
    {
      "cell_type": "code",
      "source": [
        "# counting the values of Sentiment_Polarity from user_reviews_data\n",
        "user_reviews_data['Sentiment_Polarity'].value_counts()"
      ],
      "metadata": {
        "id": "OP8d9nckIfhh"
      },
      "execution_count": null,
      "outputs": []
    },
    {
      "cell_type": "markdown",
      "source": [
        "Generally we are seeing all of the columns with \"Sentiment Polarity\" has null values so and they are categorical values so we droping all the null values from datasets."
      ],
      "metadata": {
        "id": "D1RlEO3cIkkh"
      }
    },
    {
      "cell_type": "code",
      "source": [
        "# droping all null values from user_reviews_data\n",
        "user_reviews_data.dropna(inplace = True)"
      ],
      "metadata": {
        "id": "2kIPXHynIl30"
      },
      "execution_count": null,
      "outputs": []
    },
    {
      "cell_type": "code",
      "source": [
        "# time to check is there any null values now\n",
        "user_reviews_data[(user_reviews_data['Sentiment_Polarity'].isnull())]"
      ],
      "metadata": {
        "id": "HiFzq6qeIoZj"
      },
      "execution_count": null,
      "outputs": []
    },
    {
      "cell_type": "code",
      "source": [
        "# now time to check the data as little cleaned or not\n",
        "user_reviews_data.head(20)"
      ],
      "metadata": {
        "id": "S04eAKliIte5"
      },
      "execution_count": null,
      "outputs": []
    },
    {
      "cell_type": "markdown",
      "source": [
        "**This is perfect for now**"
      ],
      "metadata": {
        "id": "8QA6KLsrI0w9"
      }
    },
    {
      "cell_type": "markdown",
      "source": [
        "### What all manipulations have you done and insights you found?"
      ],
      "metadata": {
        "id": "MSa1f5Uengrz"
      }
    },
    {
      "cell_type": "markdown",
      "source": [
        "**In the For the play_store_data, we did these manipulations.**\n",
        "\n",
        "\n",
        "* We checked the first and last 10 rows of the dataset using head() and tail() to get an idea of the data, then used shape to check the dimensions of the dataset, columns to get the column names, and info() to see data types and any null values.\n",
        "\n",
        "* We found and removed 483 duplicate values to ensure data accuracy.\n",
        "\n",
        "* We discovered 1474 null values in the \"Rating\" column and replaced them with the median value, as it is a better representation of central tendency than the mean, which can be skewed by outliers.\n",
        "\n",
        "* We also dropped one row that had a rating of 19, which was not possible as the maximum rating is 5.\n",
        "\n",
        "* We removed 1 null value from the \"Type\" column, 8 null values from the \"Current Ver\" column, and 2 null values from the \"Android Ver\" column.\n",
        "\n",
        "* We noticed that there were 10,039 free apps that had a price of 0, so we replaced the price value with the keyword \"Free\" for clarity.\n",
        "\n",
        "* We removed unnecessary characters such as \"M\" and \"K\" from the \"Size\" column, \"$\" sign from \"Price\" column, and \"+\" and \",\" from \"Installs\" column to make the data more consistent and easy to read.\n",
        "\n",
        "* We discovered 1181 duplicate apps in the \"App\" column and removed them to avoid redundancy and ensure data accuracy.\n",
        "\n",
        "\n",
        "**In the For the user_reviews_data, we did these manipulations.**\n",
        "\n",
        "* We checked the first and last 10 rows of the dataset using head() and tail() to get an idea of the data, then used shape to check the dimensions of the dataset, columns to get the column names, and info() to see data types and any null values.\n",
        "\n",
        "* We found NaN values in the \"Sentiment_Polarity\" column and dropped all null values from the dataset using dropna, as these are categorical values and cannot be imputed with a value.\n",
        "\n",
        "\n",
        "\n",
        "\n",
        "**From above those manipulations, we found these Insights.**\n",
        "\n",
        "* From the play_store_data, we found that the majority of apps are free, with over 10039 apps being free and only 800 being paid. Additionally, we found that there were 1181 duplicate app entries, so we removed them from the dataset. We also discovered that the Rating column had 1474 missing values, which we replaced with the median value. Moreover, there were 483 duplicate rows that we removed.\n",
        "\n",
        "* In terms of user_reviews_data, we found that the dataset contained 64295 rows and 5 columns. We observed that there were some missing values in the Sentiment_Polarity column, which we dropped as they were categorical values.\n",
        "\n",
        "* In conclusion, we can say that the play_store_data and user_reviews_data are valuable datasets, and when we complete our analysis and generate a final report that will be helpful for developers and businesses."
      ],
      "metadata": {
        "id": "LbyXE7I1olp8"
      }
    },
    {
      "cell_type": "markdown",
      "source": [
        "## ***4. Data Vizualization, Storytelling & Experimenting with charts : Understand the relationships between variables***"
      ],
      "metadata": {
        "id": "GF8Ens_Soomf"
      }
    },
    {
      "cell_type": "markdown",
      "source": [
        "## 1.Which app categories have the most installs ?"
      ],
      "metadata": {
        "id": "0wOQAZs5pc--"
      }
    },
    {
      "cell_type": "code",
      "source": [
        "# merge the datasets\n",
        "merged_data = pd.merge(play_store_data, user_reviews_data, on='App')\n",
        "\n",
        "# grouping the data by category and sum the installs\n",
        "category_installs = merged_data.groupby('Category')['Installs'].sum().reset_index()\n",
        "\n",
        "# sorting the data by installs in descending order\n",
        "category_installs = category_installs.sort_values('Installs', ascending=False)\n",
        "\n",
        "# creating a barplot using seaborn lib\n",
        "sns.set(style=\"whitegrid\")\n",
        "fig, ax = plt.subplots(figsize=(10,8))\n",
        "ax = sns.barplot(x='Category', y='Installs', data=category_installs)\n",
        "ax.set_xticklabels(ax.get_xticklabels(), rotation=45, ha=\"right\", fontsize=10)\n",
        "ax.set_xlabel('Category', fontsize=12)\n",
        "ax.set_ylabel('Installs', fontsize=12)\n",
        "ax.set_title('App Categories with the Most Installs', fontsize=14)\n",
        "\n",
        "plt.show()"
      ],
      "metadata": {
        "id": "7v_ESjsspbW7"
      },
      "execution_count": null,
      "outputs": []
    },
    {
      "cell_type": "markdown",
      "source": [
        "##### 1. Why did you pick the specific chart?"
      ],
      "metadata": {
        "id": "K5QZ13OEpz2H"
      }
    },
    {
      "cell_type": "markdown",
      "source": [
        "\n",
        "A bar chart is a good choice for visualizing the number of installs for different app categories because it allows us for easy comparison between categories."
      ],
      "metadata": {
        "id": "XESiWehPqBRc"
      }
    },
    {
      "cell_type": "markdown",
      "source": [
        "##### 2. What is/are the insight(s) found from the chart?"
      ],
      "metadata": {
        "id": "lQ7QKXXCp7Bj"
      }
    },
    {
      "cell_type": "markdown",
      "source": [
        "In this visualization, we can see that the most downloaded applications belong to the GAME category, indicating a high demand for GAMES. After GAMES, there is a strong competition between PHOTOGRAPHY and COMMUNICATION applications."
      ],
      "metadata": {
        "id": "C_j1G7yiqdRP"
      }
    },
    {
      "cell_type": "markdown",
      "source": [
        "##### 3. Will the gained insights help creating a positive business impact?\n",
        "Are there any insights that lead to negative growth? Justify with specific reason."
      ],
      "metadata": {
        "id": "448CDAPjqfQr"
      }
    },
    {
      "cell_type": "markdown",
      "source": [
        "Companies operating in the GAMES category can leverage this high demand to develop and market their GAMES more effectively, potentially leading to higher revenue and market share. Similarly, companies operating in the PHOTOGRAPHY and COMMUNICATION categories can identify the strong competition and innovate their products to stand out in the market and capture more customers. This can help them improve their market position and increase their revenue."
      ],
      "metadata": {
        "id": "3cspy4FjqxJW"
      }
    },
    {
      "cell_type": "markdown",
      "source": [
        "##2.What is the distribution of app ratings?"
      ],
      "metadata": {
        "id": "KSlN3yHqYklG"
      }
    },
    {
      "cell_type": "code",
      "source": [
        "# merge the data on the app\n",
        "merged_data = pd.merge(play_store_data, user_reviews_data, on='App')\n",
        "\n",
        "# creating a histogram of the app ratings\n",
        "plt.hist(merged_data[\"Rating\"], bins=20)\n",
        "\n",
        "# adding labels and title\n",
        "plt.xlabel(\"App Rating\")\n",
        "plt.ylabel(\"Frequency\")\n",
        "plt.title(\"Distribution of App Ratings\")\n",
        "\n",
        "# time to print\n",
        "plt.show()"
      ],
      "metadata": {
        "id": "R4YgtaqtYklH"
      },
      "execution_count": null,
      "outputs": []
    },
    {
      "cell_type": "markdown",
      "source": [
        "##### 1. Why did you pick the specific chart?"
      ],
      "metadata": {
        "id": "t6dVpIINYklI"
      }
    },
    {
      "cell_type": "markdown",
      "source": [
        "I chose a bar chart because it is an effective way to display counts or frequencies of categorical data, such as app ratings."
      ],
      "metadata": {
        "id": "5aaW0BYyYklI"
      }
    },
    {
      "cell_type": "markdown",
      "source": [
        "##### 2. What is/are the insight(s) found from the chart?"
      ],
      "metadata": {
        "id": "ijmpgYnKYklI"
      }
    },
    {
      "cell_type": "markdown",
      "source": [
        "Most apps have a rating between 4.0 and 4.5, which means that users are mostly happy with them. There are only a few apps with ratings below 3.5."
      ],
      "metadata": {
        "id": "PSx9atu2YklI"
      }
    },
    {
      "cell_type": "markdown",
      "source": [
        "##### 3. Will the gained insights help creating a positive business impact?\n",
        "Are there any insights that lead to negative growth? Justify with specific reason."
      ],
      "metadata": {
        "id": "-JiQyfWJYklI"
      }
    },
    {
      "cell_type": "markdown",
      "source": [
        "Here most apps have high ratings, indicating that users are generally satisfied with the quality of apps available on the Play Store. This could result in increased user trust, engagement, and retention, which can lead to higher app downloads, increased revenue, and a better overall reputation for the app store.\n"
      ],
      "metadata": {
        "id": "BcBbebzrYklV"
      }
    },
    {
      "cell_type": "markdown",
      "source": [
        "## 3.Which categories have the most reviews?"
      ],
      "metadata": {
        "id": "EM7whBJCYoAo"
      }
    },
    {
      "cell_type": "code",
      "source": [
        "# merge the data on the app\n",
        "merged_data = pd.merge(play_store_data, user_reviews_data, on='App')\n",
        "\n",
        "# calculating the number of reviews by category\n",
        "reviews_by_category = merged_data.groupby(\"Category\")[\"Translated_Review\"].count().sort_values(ascending=False)\n",
        "\n",
        "# creating a horizontal bar chart\n",
        "plt.figure(figsize=(10, 6))\n",
        "sns.barplot(x=reviews_by_category.values, y=reviews_by_category.index, palette=\"Blues_r\")\n",
        "plt.xlabel(\"Number of Reviews\")\n",
        "plt.ylabel(\"Category\")\n",
        "plt.title(\"Number of Reviews by Category\")\n",
        "\n",
        "# time to print\n",
        "plt.show()"
      ],
      "metadata": {
        "id": "t6GMdE67YoAp"
      },
      "execution_count": null,
      "outputs": []
    },
    {
      "cell_type": "markdown",
      "source": [
        "##### 1. Why did you pick the specific chart?"
      ],
      "metadata": {
        "id": "fge-S5ZAYoAp"
      }
    },
    {
      "cell_type": "markdown",
      "source": [
        "I chose a horizontal bar chart to visualize the distribution of reviews across different app categories because it allows for easy comparison of the number of reviews for each category. The horizontal layout also makes it easier to read the category labels."
      ],
      "metadata": {
        "id": "5dBItgRVYoAp"
      }
    },
    {
      "cell_type": "markdown",
      "source": [
        "##### 2. What is/are the insight(s) found from the chart?"
      ],
      "metadata": {
        "id": "85gYPyotYoAp"
      }
    },
    {
      "cell_type": "markdown",
      "source": [
        "Users typically leave reviews for an application after using it, and we can see that the GAME category has the highest number of reviews. This suggests that the GAME category has a large and engaged user base. HEALTH_AND_FITNESS, as well as FAMILY, are the next highest categories in terms of reviews received. The DATING and TRAVEL_AND_LOCAL categories have a similar number of reviews from users."
      ],
      "metadata": {
        "id": "4jstXR6OYoAp"
      }
    },
    {
      "cell_type": "markdown",
      "source": [
        "##### 3. Will the gained insights help creating a positive business impact?\n",
        "Are there any insights that lead to negative growth? Justify with specific reason."
      ],
      "metadata": {
        "id": "RoGjAbkUYoAp"
      }
    },
    {
      "cell_type": "markdown",
      "source": [
        "It provides insights into which categories have a large and engaged user base, which could be useful for app developers and marketers to target their efforts towards these categories. It also highlights the importance of providing a positive user experience in order to encourage users to leave reviews, which can ultimately lead to increased visibility and downloads for an app."
      ],
      "metadata": {
        "id": "zfJ8IqMcYoAp"
      }
    },
    {
      "cell_type": "markdown",
      "source": [
        "## 4.Which categories have the most free vs. paid apps?"
      ],
      "metadata": {
        "id": "4Of9eVA-YrdM"
      }
    },
    {
      "cell_type": "code",
      "source": [
        "# grouping data by category and type\n",
        "category_counts = play_store_data.groupby(['Category', 'Type']).count()['App'].unstack()\n",
        "\n",
        "# ploting stacked bar chart\n",
        "category_counts.plot(kind='bar', stacked=True)\n",
        "\n",
        "# title and axis labels\n",
        "plt.title(\"Distribution of Free vs. Paid Apps by Category\")\n",
        "plt.xlabel(\"Category\")\n",
        "plt.ylabel(\"Number of Apps\")\n",
        "\n",
        "# time to print\n",
        "plt.show()"
      ],
      "metadata": {
        "id": "irlUoxc8YrdO"
      },
      "execution_count": null,
      "outputs": []
    },
    {
      "cell_type": "markdown",
      "source": [
        "##### 1. Why did you pick the specific chart?"
      ],
      "metadata": {
        "id": "iky9q4vBYrdO"
      }
    },
    {
      "cell_type": "markdown",
      "source": [
        "I picked the stacked bar chart because it allows for a clear comparison between the number of free and paid apps in each category, as well as the overall distribution of free vs. paid apps across all categories."
      ],
      "metadata": {
        "id": "aJRCwT6DYrdO"
      }
    },
    {
      "cell_type": "markdown",
      "source": [
        "##### 2. What is/are the insight(s) found from the chart?"
      ],
      "metadata": {
        "id": "F6T5p64dYrdO"
      }
    },
    {
      "cell_type": "markdown",
      "source": [
        "Developers and businesses creating apps in popular categories like \"FAMILY\", \"GAMES\", and \"TOOLS\" should explore other revenue options because these categories have a high number of free apps, making it challenging to generate income solely through app purchases."
      ],
      "metadata": {
        "id": "Xx8WAJvtYrdO"
      }
    },
    {
      "cell_type": "markdown",
      "source": [
        "##### 3. Will the gained insights help creating a positive business impact?\n",
        "Are there any insights that lead to negative growth? Justify with specific reason."
      ],
      "metadata": {
        "id": "y-Ehk30pYrdP"
      }
    },
    {
      "cell_type": "markdown",
      "source": [
        "This information can help developers and businesses make better decisions about which categories to focus on. If they want to create a paid app, they might want to focus on the \"Family\" or \"Game\" categories. But if they want to create a free app with less competition, they could consider the \"Beauty,\" \"Art and Design,\" and \"Comics\" categories."
      ],
      "metadata": {
        "id": "jLNxxz7MYrdP"
      }
    },
    {
      "cell_type": "markdown",
      "source": [
        "## 5.What is the average rating of free vs. paid apps?"
      ],
      "metadata": {
        "id": "bamQiAODYuh1"
      }
    },
    {
      "cell_type": "code",
      "source": [
        "# merge the data on the app\n",
        "merged_data = pd.merge(play_store_data, user_reviews_data, on='App')\n",
        "\n",
        "free_vs_paid_app = merged_data[merged_data['Type'].isin(['Free', 'Paid'])]\n",
        "\n",
        "# now using the violin plot\n",
        "sns.violinplot(x='Type', y='Rating', data=free_vs_paid_app, palette=['#66b3ff', '#ffcc99'])\n",
        "\n",
        "# title of violin plot\n",
        "plt.title('Average Rating of Free vs. Paid Apps')\n",
        "\n",
        "# time to print\n",
        "plt.show()"
      ],
      "metadata": {
        "id": "TIJwrbroYuh3"
      },
      "execution_count": null,
      "outputs": []
    },
    {
      "cell_type": "markdown",
      "source": [
        "##### 1. Why did you pick the specific chart?"
      ],
      "metadata": {
        "id": "QHF8YVU7Yuh3"
      }
    },
    {
      "cell_type": "markdown",
      "source": [
        "I chose to use a violin plot because it can show the distribution of data for both free and paid apps, as well as the average rating of each."
      ],
      "metadata": {
        "id": "dcxuIMRPYuh3"
      }
    },
    {
      "cell_type": "markdown",
      "source": [
        "##### 2. What is/are the insight(s) found from the chart?"
      ],
      "metadata": {
        "id": "GwzvFGzlYuh3"
      }
    },
    {
      "cell_type": "markdown",
      "source": [
        "Both \"FREE\" and \"PAID\" apps have a similar average rating of about 4.3. However, \"FREE\" apps have a wider range of ratings than\"PAID\" apps, meaning there is more variation in their ratings. On the other hand, \"PAID\" apps have a more consistent rating, with fewer extreme ratings. This information can be helpful for users when deciding whether to download a free or \"PAID\" app."
      ],
      "metadata": {
        "id": "uyqkiB8YYuh3"
      }
    },
    {
      "cell_type": "markdown",
      "source": [
        "##### 3. Will the gained insights help creating a positive business impact?\n",
        "Are there any insights that lead to negative growth? Justify with specific reason."
      ],
      "metadata": {
        "id": "qYpmQ266Yuh3"
      }
    },
    {
      "cell_type": "markdown",
      "source": [
        "This information can help a company decide whether to offer their app for \"FREE\" or charge for it. If they want consistent ratings, they may choose to charge for the app. If they want a wider audience, they may choose to offer the app for \"FREE\", even if there may be more variability in the reviews."
      ],
      "metadata": {
        "id": "_WtzZ_hCYuh4"
      }
    },
    {
      "cell_type": "markdown",
      "source": [
        "## 6.Which categories generate the most revenue?"
      ],
      "metadata": {
        "id": "OH-pJp9IphqM"
      }
    },
    {
      "cell_type": "code",
      "source": [
        "# merge the data on the app\n",
        "merged_data = pd.merge(play_store_data, user_reviews_data, on='App')\n",
        "\n",
        "# calculating the revenue by category\n",
        "merged_data['Revenue'] = merged_data['Installs'] * merged_data['Price']\n",
        "revenue_by_category = merged_data.groupby('Category')['Revenue'].sum()\n",
        "\n",
        "# convert revenue to million\n",
        "revenue_by_category /= 1000000\n",
        "\n",
        "# sorting by revenue in descending order\n",
        "revenue_by_category = revenue_by_category.sort_values(ascending=False)\n",
        "\n",
        "# adding custom color palette with 6 colors\n",
        "custom_palette = sns.color_palette(['#4c72b0', '#55a868', '#c44e52', '#8172b2', '#ccb974', '#64b5cd'])\n",
        "\n",
        "# now using bar chart of revenue by category\n",
        "plt.figure(figsize=(10, 6))\n",
        "sns.barplot(x=revenue_by_category.index, y=revenue_by_category.values, palette=custom_palette)\n",
        "plt.xticks(rotation=90)\n",
        "plt.xlabel(\"Category\")\n",
        "plt.ylabel(\"Revenue (Millions)\")\n",
        "plt.title(\"Revenue by Category\")\n",
        "\n",
        "# adding actual revenue values to the bar chart\n",
        "for i, val in enumerate(revenue_by_category.values):\n",
        "    plt.annotate(\"{:.2f}\".format(val), (i, val), ha='center', va='bottom', fontsize=8)\n",
        "\n",
        "# now time to print\n",
        "plt.show()"
      ],
      "metadata": {
        "id": "kuRf4wtuphqN"
      },
      "execution_count": null,
      "outputs": []
    },
    {
      "cell_type": "markdown",
      "source": [
        "##### 1. Why did you pick the specific chart?"
      ],
      "metadata": {
        "id": "bbFf2-_FphqN"
      }
    },
    {
      "cell_type": "markdown",
      "source": [
        "I picked the bar chart because it's an effective way to visualize the revenue generated by each category in a clear way."
      ],
      "metadata": {
        "id": "loh7H2nzphqN"
      }
    },
    {
      "cell_type": "markdown",
      "source": [
        "##### 2. What is/are the insight(s) found from the chart?"
      ],
      "metadata": {
        "id": "_ouA3fa0phqN"
      }
    },
    {
      "cell_type": "markdown",
      "source": [
        "It shows that the \"Personalization\" category generates the highest revenue, followed by \"Sports\" and \"Medical\". This information can be valuable for companies that create apps in these categories as they can prioritize their investments and efforts accordingly.\n",
        "\n",
        "On the other hand, some categories, such as \"Weather\" and \"Beauty\", generate lower revenue. This indicates that businesses working in these categories may need to explore alternative revenue streams or rethink their business strategy.\n"
      ],
      "metadata": {
        "id": "VECbqPI7phqN"
      }
    },
    {
      "cell_type": "markdown",
      "source": [
        "##### 3. Will the gained insights help creating a positive business impact?\n",
        "Are there any insights that lead to negative growth? Justify with specific reason."
      ],
      "metadata": {
        "id": "Seke61FWphqN"
      }
    },
    {
      "cell_type": "markdown",
      "source": [
        "Companies can prioritize their investments and efforts in categories that generate the highest revenue, such as \"Personalization\", \"Sports\", and \"Medical\". Whereas those companies which are operating in categories with lower revenue, such as \"Weather\" and \"Beauty\", may face challenges in generating significant profits solely through the Play Store. They may need to explore other revenue options or adjust their business strategy accordingly."
      ],
      "metadata": {
        "id": "DW4_bGpfphqN"
      }
    },
    {
      "cell_type": "markdown",
      "source": [
        "## 7.What is the average app size in different categories?"
      ],
      "metadata": {
        "id": "PIIx-8_IphqN"
      }
    },
    {
      "cell_type": "code",
      "source": [
        "# grouping play_store_data by category and finding the mean of size\n",
        "mean_size_by_category = play_store_data.groupby(\"Category\")[\"Size\"].mean() / 1000000\n",
        "\n",
        "# creating bar chart\n",
        "plt.figure(figsize=(12,8))\n",
        "mean_size_by_category.plot(kind='bar')\n",
        "plt.xticks(rotation=90)\n",
        "plt.title(\"Average App Size by Category\")\n",
        "plt.xlabel(\"Category\")\n",
        "plt.ylabel(\"Average App Size (MB)\")\n",
        "\n",
        "# time to print\n",
        "plt.show()\n"
      ],
      "metadata": {
        "id": "lqAIGUfyphqO"
      },
      "execution_count": null,
      "outputs": []
    },
    {
      "cell_type": "markdown",
      "source": [
        "##### 1. Why did you pick the specific chart?"
      ],
      "metadata": {
        "id": "t27r6nlMphqO"
      }
    },
    {
      "cell_type": "markdown",
      "source": [
        "I picked a bar chart because it is a simple and effective way to compare the average app size in different categories."
      ],
      "metadata": {
        "id": "iv6ro40sphqO"
      }
    },
    {
      "cell_type": "markdown",
      "source": [
        "##### 2. What is/are the insight(s) found from the chart?"
      ],
      "metadata": {
        "id": "r2jJGEOYphqO"
      }
    },
    {
      "cell_type": "markdown",
      "source": [
        "Apps in different categories have different average sizes. The biggest apps are in the \"Game\" and \"Family\" categories, while the smallest apps are in the \"Tools\" and \"Libraries and Demo\" categories."
      ],
      "metadata": {
        "id": "Po6ZPi4hphqO"
      }
    },
    {
      "cell_type": "markdown",
      "source": [
        "##### 3. Will the gained insights help creating a positive business impact?\n",
        "Are there any insights that lead to negative growth? Justify with specific reason."
      ],
      "metadata": {
        "id": "b0JNsNcRphqO"
      }
    },
    {
      "cell_type": "markdown",
      "source": [
        "It helps app developers to better optimize the size of their app according to their target category, as well as give them insights on the size of their competitors' apps in the same category. Also,  make sure their apps are not too big and take up too much space on users' devices."
      ],
      "metadata": {
        "id": "xvSq8iUTphqO"
      }
    },
    {
      "cell_type": "markdown",
      "source": [
        "## 8.What is the percentage of apps that are updated frequently?"
      ],
      "metadata": {
        "id": "BZR9WyysphqO"
      }
    },
    {
      "cell_type": "code",
      "source": [
        "# converting \"Last Updated\" column to datetime format\n",
        "play_store_data[\"Last Updated\"] = pd.to_datetime(play_store_data[\"Last Updated\"])\n",
        "\n",
        "# calculating the percentage of apps that were updated within the last 30 days\n",
        "last_30_days = play_store_data[play_store_data[\"Last Updated\"] >= (pd.Timestamp.now() - pd.Timedelta(days=30))]\n",
        "updated_apps_percent = len(last_30_days) / len(play_store_data) * 100\n",
        "\n",
        "# create a pie chart to visualize the percentage of apps that are updated frequently\n",
        "plt.figure(figsize=(6,6))\n",
        "plt.pie([updated_apps_percent, 100-updated_apps_percent], labels=[\"Updated within last 30 days\", \"Not updated within last 30 days\"], autopct='%1.1f%%')\n",
        "plt.title(\"Percentage of Apps Updated Frequently\")\n",
        "\n",
        "# time to print\n",
        "plt.show()"
      ],
      "metadata": {
        "id": "TdPTWpAVphqO"
      },
      "execution_count": null,
      "outputs": []
    },
    {
      "cell_type": "markdown",
      "source": [
        "##### 1. Why did you pick the specific chart?"
      ],
      "metadata": {
        "id": "jj7wYXLtphqO"
      }
    },
    {
      "cell_type": "markdown",
      "source": [
        "I picked a pie chart because it's a great way to visualize the percentage of apps that are updated frequently."
      ],
      "metadata": {
        "id": "Ob8u6rCTphqO"
      }
    },
    {
      "cell_type": "markdown",
      "source": [
        "##### 2. What is/are the insight(s) found from the chart?"
      ],
      "metadata": {
        "id": "eZrbJ2SmphqO"
      }
    },
    {
      "cell_type": "markdown",
      "source": [
        "No apps were updated in the last 30 days. This suggests that app developers may need to update their apps more often to keep users happy and engaged."
      ],
      "metadata": {
        "id": "mZtgC_hjphqO"
      }
    },
    {
      "cell_type": "markdown",
      "source": [
        "##### 3. Will the gained insights help creating a positive business impact?\n",
        "Are there any insights that lead to negative growth? Justify with specific reason."
      ],
      "metadata": {
        "id": "rFu4xreNphqO"
      }
    },
    {
      "cell_type": "markdown",
      "source": [
        "Not updating apps for a long time can be bad for businesses because users may lose interest and switch to other apps. Regular updates can also provide important security patches, which reduce the risk of hacking. That's why, businesses should prioritize updating their apps regularly and always provide updates to users to maintain their interest and ensure the security of their data."
      ],
      "metadata": {
        "id": "ey_0qi68phqO"
      }
    },
    {
      "cell_type": "markdown",
      "source": [
        "## 9.Which category of Apps from the ‘Content Rating’ column is found more on the play store?"
      ],
      "metadata": {
        "id": "YJ55k-q6phqO"
      }
    },
    {
      "cell_type": "code",
      "source": [
        "# content rating of the apps\n",
        "data = play_store_data['Content Rating'].value_counts()\n",
        "labels = ['Everyone', 'Teen', 'Everyone 10+', 'Mature 17+','Adults only 18+', 'Unrated']\n",
        "\n",
        "# using pie chart\n",
        "plt.figure(figsize=(10,10))\n",
        "explode=(0,0.1,0.1,0.1,0.0,1.3)\n",
        "colors = ['orange', 'r', 'yellow', 'g', 'm', 'k']\n",
        "plt.pie(data, labels = labels, colors = colors, autopct='%.2f%%',explode=explode,textprops={'fontsize': 15})\n",
        "plt.title('Content Rating',size=20,loc='center')\n",
        "plt.legend();"
      ],
      "metadata": {
        "id": "B2aS4O1ophqO"
      },
      "execution_count": null,
      "outputs": []
    },
    {
      "cell_type": "markdown",
      "source": [
        "##### 1. Why did you pick the specific chart?"
      ],
      "metadata": {
        "id": "gCFgpxoyphqP"
      }
    },
    {
      "cell_type": "markdown",
      "source": [
        "A Pie Chart is a great choice for visualizing the distribution of categories in the 'Content Rating' column."
      ],
      "metadata": {
        "id": "TVxDimi2phqP"
      }
    },
    {
      "cell_type": "markdown",
      "source": [
        "##### 2. What is/are the insight(s) found from the chart?"
      ],
      "metadata": {
        "id": "OVtJsKN_phqQ"
      }
    },
    {
      "cell_type": "markdown",
      "source": [
        "Most of the apps on the play store have a content rating of 'Everyone' (81.80%). This is followed by 'Teen' (10.74%), 'Everyone 10+' (4.07%), 'Mature 17+' (3.34%), 'Adults only 18+' (0.03%), and 'Unrated' (0.02%)."
      ],
      "metadata": {
        "id": "ngGi97qjphqQ"
      }
    },
    {
      "cell_type": "markdown",
      "source": [
        "##### 3. Will the gained insights help creating a positive business impact?\n",
        "Are there any insights that lead to negative growth? Justify with specific reason."
      ],
      "metadata": {
        "id": "lssrdh5qphqQ"
      }
    },
    {
      "cell_type": "markdown",
      "source": [
        "This information can help app developers to know that the majority of apps have a 'Everyone' rating, which allows for a broad audience. But for businesses targeting specific age groups, like 'Mature 17+' or 'Adults only 18+', this information can be useful as there is less competition in those areas."
      ],
      "metadata": {
        "id": "tBpY5ekJphqQ"
      }
    },
    {
      "cell_type": "markdown",
      "source": [
        "## 10.How much app paid or how much is free?"
      ],
      "metadata": {
        "id": "U2RJ9gkRphqQ"
      }
    },
    {
      "cell_type": "code",
      "source": [
        "# creating a variable and storing the each unique values of Type\n",
        "paid_or_free = play_store_data['Type'].value_counts()\n",
        "labels = play_store_data['Type'].value_counts().index\n",
        "\n",
        "# creating a pie chart\n",
        "plt.figure(figsize=(12,10))\n",
        "colors = ['#A2CD5A','#FFE4C4']\n",
        "explode = (0.01,0.1)\n",
        "plt.pie(paid_or_free,labels=labels,colors=colors,autopct='%.2f%%',explode=explode,shadow=True,textprops={'fontsize': 15})\n",
        "plt.title('Free Vs Paid Apps')\n",
        "\n",
        "# time to print\n",
        "plt.show()"
      ],
      "metadata": {
        "id": "GM7a4YP4phqQ"
      },
      "execution_count": null,
      "outputs": []
    },
    {
      "cell_type": "markdown",
      "source": [
        "##### 1. Why did you pick the specific chart?"
      ],
      "metadata": {
        "id": "1M8mcRywphqQ"
      }
    },
    {
      "cell_type": "markdown",
      "source": [
        "Pie charts are a good choice for visualizing categorical data like the distribution of free vs. paid apps."
      ],
      "metadata": {
        "id": "8agQvks0phqQ"
      }
    },
    {
      "cell_type": "markdown",
      "source": [
        "##### 2. What is/are the insight(s) found from the chart?"
      ],
      "metadata": {
        "id": "tgIPom80phqQ"
      }
    },
    {
      "cell_type": "markdown",
      "source": [
        "Most apps in the Play Store dataset are free (92.20%), while only a small percentage are paid (7.80%). This suggests that users prefer free apps."
      ],
      "metadata": {
        "id": "Qp13pnNzphqQ"
      }
    },
    {
      "cell_type": "markdown",
      "source": [
        "##### 3. Will the gained insights help creating a positive business impact?\n",
        "Are there any insights that lead to negative growth? Justify with specific reason."
      ],
      "metadata": {
        "id": "JMzcOPDDphqR"
      }
    },
    {
      "cell_type": "markdown",
      "source": [
        "The high percentage of free apps in the Play Store suggests that offering free apps can be a successful business strategy to attract users."
      ],
      "metadata": {
        "id": "R4Ka1PC2phqR"
      }
    },
    {
      "cell_type": "markdown",
      "source": [
        "## 11.Which app categories have the highest number of downloads per review?"
      ],
      "metadata": {
        "id": "x-EpHcCOp1ci"
      }
    },
    {
      "cell_type": "code",
      "source": [
        "# merge the data on the app\n",
        "merged_df = pd.merge(play_store_data, user_reviews_data, on=\"App\")\n",
        "\n",
        "# calculating downloads per review for each category\n",
        "downloads_per_review = merged_df.groupby('Category')['Installs', 'Reviews'].sum()\n",
        "downloads_per_review['downloads_per_review'] = downloads_per_review['Installs'] / downloads_per_review['Reviews']\n",
        "\n",
        "# now sorting the values by downloads per review\n",
        "downloads_per_review = downloads_per_review.sort_values('downloads_per_review', ascending=False)\n",
        "\n",
        "# using bar chart\n",
        "sns.set_theme(style=\"ticks\")\n",
        "f, ax = plt.subplots(figsize=(8, 10))\n",
        "sns.barplot(x='downloads_per_review', y=downloads_per_review.index, data=downloads_per_review, color='#228B22')\n",
        "ax.set(xlabel=\"Downloads per Review\", ylabel=\"Category\")\n",
        "\n",
        "# time to print\n",
        "plt.show()"
      ],
      "metadata": {
        "id": "mAQTIvtqp1cj"
      },
      "execution_count": null,
      "outputs": []
    },
    {
      "cell_type": "markdown",
      "source": [
        "##### 1. Why did you pick the specific chart?"
      ],
      "metadata": {
        "id": "X_VqEhTip1ck"
      }
    },
    {
      "cell_type": "markdown",
      "source": [
        "The bar chart was chosen for this analysis as it is an effective way to compare the number of downloads per review across different app categories."
      ],
      "metadata": {
        "id": "-vsMzt_np1ck"
      }
    },
    {
      "cell_type": "markdown",
      "source": [
        "##### 2. What is/are the insight(s) found from the chart?"
      ],
      "metadata": {
        "id": "8zGJKyg5p1ck"
      }
    },
    {
      "cell_type": "markdown",
      "source": [
        "Large number of users like to download \"NEWS_AND_MAGAZINES\" applications. It is a very huge amount of interest as we can see. Whereas the \"EDUCATION\" and \"SOCIAL\" category have very less downloads."
      ],
      "metadata": {
        "id": "ZYdMsrqVp1ck"
      }
    },
    {
      "cell_type": "markdown",
      "source": [
        "##### 3. Will the gained insights help creating a positive business impact?\n",
        "Are there any insights that lead to negative growth? Justify with specific reason."
      ],
      "metadata": {
        "id": "PVzmfK_Ep1ck"
      }
    },
    {
      "cell_type": "markdown",
      "source": [
        "This insight provides useful information to businesses about the popularity of different app categories among users. Companies can use this information to develop and market apps that align with users' preferences, which could lead to higher downloads, increased user engagement, and ultimately more revenue.\n",
        "\n",
        "For example, a business could prioritize developing apps in the \"NEWS_AND_MAGAZINES\" category since it has a high level of user interest. Similarly, they could invest less in developing apps in categories like \"EDUCATION\" and \"SOCIAL\" that have fewer downloads."
      ],
      "metadata": {
        "id": "druuKYZpp1ck"
      }
    },
    {
      "cell_type": "markdown",
      "source": [
        "## 12.What is the correlation between app size and number of downloads?"
      ],
      "metadata": {
        "id": "n3dbpmDWp1ck"
      }
    },
    {
      "cell_type": "code",
      "source": [
        "# merge the data on the app\n",
        "merged_data = pd.merge(play_store_data, user_reviews_data, on='App')\n",
        "\n",
        "# converting the size column to numeric values\n",
        "merged_data['Size'] = merged_data['Size'].apply(lambda x: x.strip('M') if type(x) == str else x)\n",
        "merged_data['Size'] = pd.to_numeric(merged_data['Size'], errors='coerce')\n",
        "\n",
        "# time to plot the correlation between Size and Installs\n",
        "sns.set_theme(style=\"white\")\n",
        "sns.relplot(x=\"Size\", y=\"Installs\", data=merged_data)\n",
        "\n",
        "# adding labels and a title\n",
        "plt.xlabel(\"App Size\")\n",
        "plt.ylabel(\"Number of Downloads\")\n",
        "plt.title(\"Correlation between App Size and Number of Downloads\")\n",
        "\n",
        "# time to print\n",
        "plt.show()"
      ],
      "metadata": {
        "id": "bwevp1tKp1ck"
      },
      "execution_count": null,
      "outputs": []
    },
    {
      "cell_type": "markdown",
      "source": [
        "##### 1. Why did you pick the specific chart?"
      ],
      "metadata": {
        "id": "ylSl6qgtp1ck"
      }
    },
    {
      "cell_type": "markdown",
      "source": [
        "The scatter plot was chosen to display the correlation between app size and number of downloads because it is an effective way to compare different categories and show the distribution of the data."
      ],
      "metadata": {
        "id": "m2xqNkiQp1ck"
      }
    },
    {
      "cell_type": "markdown",
      "source": [
        "##### 2. What is/are the insight(s) found from the chart?"
      ],
      "metadata": {
        "id": "ZWILFDl5p1ck"
      }
    },
    {
      "cell_type": "markdown",
      "source": [
        "As the variety in app size decreases, the number of downloads also decreases."
      ],
      "metadata": {
        "id": "x-lUsV2mp1ck"
      }
    },
    {
      "cell_type": "markdown",
      "source": [
        "##### 3. Will the gained insights help creating a positive business impact?\n",
        "Are there any insights that lead to negative growth? Justify with specific reason."
      ],
      "metadata": {
        "id": "M7G43BXep1ck"
      }
    },
    {
      "cell_type": "markdown",
      "source": [
        "App developers can focus on providing a wider range of app sizes to attract more downloads. The developers should focus on creating apps of different sizes to attract a wider audience and increase their chances of getting more downloads. It can also help them optimize their app size to meet user needs and preferences."
      ],
      "metadata": {
        "id": "5wwDJXsLp1cl"
      }
    },
    {
      "cell_type": "markdown",
      "source": [
        "## 13.Sentiment Analysis Based on Category in Reviews Data"
      ],
      "metadata": {
        "id": "Ag9LCva-p1cl"
      }
    },
    {
      "cell_type": "code",
      "source": [
        "from matplotlib.ticker import PercentFormatter\n",
        "\n",
        "# merge the data on the app by inner\n",
        "merged_df = pd.merge(play_store_data, user_reviews_data, on='App', how = 'inner')\n",
        "merged_df.head()\n",
        "f = plt.figure(figsize=(15,8))\n",
        "ax = f.add_subplot(1,1,1)\n",
        "\n",
        "# using seaborn lib to show stacked histogram\n",
        "sns.histplot(\n",
        "    data=merged_df,\n",
        "    x=\"Category\", hue=\"Sentiment\",\n",
        "    bins=34,\n",
        "    ax=ax,\n",
        "    stat=\"count\",\n",
        "    multiple=\"stack\",\n",
        "    palette=\"light:m_r\",\n",
        "    edgecolor=\".3\",\n",
        "    linewidth=.5,\n",
        "    legend=True\n",
        "    )\n",
        "\n",
        "\n",
        "ax.set_title(\"Sentiment Analysis Based on Category\",fontsize=15,fontweight='bold')\n",
        "plt.xticks(rotation='vertical')\n",
        "ax.set_xlabel(\"Category\",fontsize=14)\n",
        "ax.set_ylabel(\"Review Counts\",fontsize=14)\n",
        "\n",
        "plt.gca().yaxis.set_major_formatter(PercentFormatter(20000))\n",
        "sns.set(style=\"ticks\")\n",
        "plt.grid()\n",
        "plt.show()"
      ],
      "metadata": {
        "id": "EUfxeq9-p1cl"
      },
      "execution_count": null,
      "outputs": []
    },
    {
      "cell_type": "markdown",
      "source": [
        "##### 1. Why did you pick the specific chart?"
      ],
      "metadata": {
        "id": "E6MkPsBcp1cl"
      }
    },
    {
      "cell_type": "markdown",
      "source": [
        "We picked Stacked Histogram because it helps to visualize the sentiment analysis based on categories in the reviews data."
      ],
      "metadata": {
        "id": "V22bRsFWp1cl"
      }
    },
    {
      "cell_type": "markdown",
      "source": [
        "##### 2. What is/are the insight(s) found from the chart?"
      ],
      "metadata": {
        "id": "2cELzS2fp1cl"
      }
    },
    {
      "cell_type": "markdown",
      "source": [
        "It tell us which app categories have the most positive and negative reviews. Seems like the \"GAME\" category has the most reviews, both positive and negative. However, there are more negative reviews than positive ones, so the developers of those apps should figure out what is causing the negative experiences and fix them. On the other hand, the \"COMICS\" category has very few reviews, both positive and negative."
      ],
      "metadata": {
        "id": "ozQPc2_Ip1cl"
      }
    },
    {
      "cell_type": "markdown",
      "source": [
        "##### 3. Will the gained insights help creating a positive business impact?\n",
        "Are there any insights that lead to negative growth? Justify with specific reason."
      ],
      "metadata": {
        "id": "3MPXvC8up1cl"
      }
    },
    {
      "cell_type": "markdown",
      "source": [
        "Businesses can identify the areas that need improvement in their apps. This can help them improve their apps and provide better user experiences, which can lead to increased customer satisfaction and loyalty. As a result, it can have a positive impact on their business's reputation and potentially increase their revenue."
      ],
      "metadata": {
        "id": "GL8l1tdLp1cl"
      }
    },
    {
      "cell_type": "markdown",
      "source": [
        "## 14 - Correlation Heatmap of Play Store Data\n"
      ],
      "metadata": {
        "id": "NC_X3p0fY2L0"
      }
    },
    {
      "cell_type": "code",
      "source": [
        "# generating heatmap of correlation\n",
        "plt.figure(figsize=(15,10))\n",
        "sns.heatmap(play_store_data.corr(),annot=True, cmap='Accent_r')\n",
        "plt.title(\"Correlation by Heatmap in Play Store Data\",size='20');"
      ],
      "metadata": {
        "id": "xyC9zolEZNRQ"
      },
      "execution_count": null,
      "outputs": []
    },
    {
      "cell_type": "markdown",
      "source": [
        "##### 1. Why did you pick the specific chart?"
      ],
      "metadata": {
        "id": "UV0SzAkaZNRQ"
      }
    },
    {
      "cell_type": "markdown",
      "source": [
        "We used Correlation Heatmap because it helps to understand the correlation between the columns in Play Store Data."
      ],
      "metadata": {
        "id": "DVPuT8LYZNRQ"
      }
    },
    {
      "cell_type": "markdown",
      "source": [
        "##### 2. What is/are the insight(s) found from the chart?"
      ],
      "metadata": {
        "id": "YPEH6qLeZNRQ"
      }
    },
    {
      "cell_type": "markdown",
      "source": [
        "The number of app installs and the number of reviews have a strong positive connection, which means that when there are more reviews, there are generally more app installs. The study showed that when an app has more installs, it usually has more reviews too. However, the study also found that as the price of an app increases, fewer people tend to install it."
      ],
      "metadata": {
        "id": "bfSqtnDqZNRR"
      }
    },
    {
      "cell_type": "markdown",
      "source": [
        "#### Chart - 15 - Pair Plot of Play Store Data"
      ],
      "metadata": {
        "id": "q29F0dvdveiT"
      }
    },
    {
      "cell_type": "code",
      "source": [
        "# merge the data on the app by inner\n",
        "merged_df = pd.merge(play_store_data, user_reviews_data, on='App', how='inner')\n",
        "\n",
        "# selecting the columns which we have to show on plot\n",
        "columns = ['Rating', 'Reviews', 'Size', 'Installs', 'Price']\n",
        "\n",
        "# now creating the pair plot\n",
        "sns.pairplot(data=merged_df[columns])\n",
        "\n",
        "# time to print\n",
        "plt.show()"
      ],
      "metadata": {
        "id": "o58-TEIhveiU"
      },
      "execution_count": null,
      "outputs": []
    },
    {
      "cell_type": "markdown",
      "source": [
        "##### 1. Why did you pick the specific chart?"
      ],
      "metadata": {
        "id": "EXh0U9oCveiU"
      }
    },
    {
      "cell_type": "markdown",
      "source": [
        "The Pair Plot is a good choice for exploratory data analysis as it allows us to visualize the relationships between different columns in the dataset."
      ],
      "metadata": {
        "id": "eMmPjTByveiU"
      }
    },
    {
      "cell_type": "markdown",
      "source": [
        "##### 2. What is/are the insight(s) found from the chart?"
      ],
      "metadata": {
        "id": "22aHeOlLveiV"
      }
    },
    {
      "cell_type": "markdown",
      "source": [
        "1. Apps with smaller sizes tend to have higher ratings from users, while those with larger sizes tend to have lower ratings.\n",
        "\n",
        "2. As the price increases, the installation rate decreases.\n",
        "\n",
        "3. Apps with a rating between 4 and 5 have more reviews compared to apps with lower ratings.\n",
        "\n",
        "4. Also, Apps with ratings between 4 and 5 have been installed more.\n",
        "\n",
        "5. As the price of the app increases, the number of reviews or users also decreases."
      ],
      "metadata": {
        "id": "uPQ8RGwHveiV"
      }
    },
    {
      "cell_type": "markdown",
      "source": [
        "## **5. Solution to Business Objective**"
      ],
      "metadata": {
        "id": "JcMwzZxoAimU"
      }
    },
    {
      "cell_type": "markdown",
      "source": [
        "#### What do you suggest the client to achieve Business Objective ?\n",
        "Explain Briefly."
      ],
      "metadata": {
        "id": "8G2x9gOozGDZ"
      }
    },
    {
      "cell_type": "markdown",
      "source": [
        "As per EDA shown above,\n",
        "\n",
        "1. As per 1st analysis, Businesses should focus on developing and improving apps in popular categories like games, photography, and communication, and find ways to differentiate their apps from competitors to increase their chances of success.\n",
        "\n",
        "\n",
        "2. As per 2nd analysis, Businesses should aim to maintain high app ratings between 4.0 and 4.5, and prioritize improving apps with ratings below 3.5 to increase user satisfaction. This could be achieved by gathering user feedback and addressing any issues or bugs, as well as implementing new features or improvements to enhance the overall user experience.\n",
        "\n",
        "\n",
        "3.  As per 3rd analysis, Businesses should focus on app categories with a high number of user reviews, such as games, health and fitness, and family, as these categories have a large and engaged user base. For categories with a similar number of reviews, such as dating and travel and local, businesses should consider other factors such as user satisfaction and competition when developing or improving apps in these categories.\n",
        "\n",
        "\n",
        "4.  As per 4th analysis, Developers and businesses should explore other revenue options in popular categories such as family, games, and tools, as these categories have a high number of free apps, making it challenging to generate income solely through app purchases. They could consider implementing in-app advertisements or offering in-app purchases to users to increase revenue. Additionally, businesses could also explore other monetization models such as subscriptions or partnerships with other businesses to generate revenue.\n",
        "\n",
        "\n",
        "5. As per 5th analysis, Users should consider both the average rating and rating distribution when deciding whether to download a free or paid app. While both types of apps have similar average ratings, free apps have a wider range of ratings, indicating more variation in user satisfaction. Paid apps, on the other hand, have a more consistent rating with fewer extreme ratings. This information can help users make informed decisions when deciding between free and paid apps.\n",
        "\n",
        "\n",
        "6. As per 6th analysis, Companies that create apps in high-revenue categories like personalization, sports, and medical should prioritize their investments and efforts accordingly to maximize revenue. However, businesses working in lower revenue categories like weather and beauty may need to explore alternative revenue streams or rethink their business strategy. By analyzing revenue generation by category, businesses can make informed decisions about where to invest their resources and identify areas for potential improvement or growth.\n",
        "\n",
        "\n",
        "7. As per 7th analysis, Users should be aware that apps in different categories have different average sizes, with games and family apps typically being larger, and tools and libraries and demo apps being smaller. This information can help users make informed decisions when managing their device storage, as they may need to prioritize which apps to keep or uninstall based on their storage needs. Additionally, businesses developing apps in categories with larger average sizes may need to consider optimizing their app size to improve user experience and avoid potential storage concerns.\n",
        "\n",
        "8. As per 8th analysis, App developers should consider updating their apps more frequently to keep users engaged and satisfied. The lack of updates in the last 30 days suggests that app developers may not be prioritizing updates, which could lead to user dissatisfaction and decreased engagement. By analyzing the frequency of app updates, developers can identify potential areas for improvement and prioritize updates to improve user experience and engagement.\n",
        "\n",
        "\n",
        "9. As per 9th analysis, The majority of apps on the Play Store have a content rating of 'Everyone', followed by 'Teen' and 'Everyone 10+'. This information can be helpful for app developers to understand the content rating distribution of apps on the Play Store and ensure their app aligns with the appropriate content rating. Developers should consider reviewing their app content to ensure it aligns with the appropriate content rating and make any necessary changes to improve their app's rating. This can help ensure user safety and compliance with Play Store policies.\n",
        "\n",
        "\n",
        "10. As per 10th analysis, The majority of apps in the Play Store dataset are free, indicating that users prefer free apps. This information can be valuable for app developers to understand user preferences and adjust their monetization strategy accordingly. Developers should consider offering in-app purchases, ads, or other revenue-generating options to supplement their income from free apps. Additionally, developers of paid apps should ensure that their app provides significant value to justify the cost to users.\n",
        "\n",
        "\n",
        "11. As per 11th analysis, Businesses can consider developing more apps in the \"NEWS_AND_MAGAZINES\" category to cater to the high demand from users. However, they may need to think carefully before investing in the \"EDUCATION\" and \"SOCIAL\" categories, as they have low downloads.\n",
        "\n",
        "\n",
        "12. As per 12th analysis, Companies and developers should aim to optimize the size of their apps to balance functionality and downloadability. Apps that are too large may deter potential users from downloading them, while apps that are too small may lack essential features and functionality, leading to lower user engagement and retention.\n",
        "\n",
        "\n",
        "13. As per 13th analysis, Developers in the \"GAME\" category should address the issues mentioned in negative reviews to improve user satisfaction. The lack of reviews in the \"COMICS\" category suggests that developers may need to invest in promoting their apps and encouraging users to leave reviews.\n",
        "\n",
        "\n",
        "14. As per 14th analysis, Developers should focus on improving the user experience and encouraging positive reviews to increase app installs. They should also consider pricing strategies that attract users while generating revenue.\n",
        "\n",
        "\n",
        "15. As per 15th analysis, Developers can use this information to optimize their app size, pricing, and ratings to improve user engagement and drive more installs and positive reviews. They can also use this data to benchmark their app's performance against industry standards and competitors."
      ],
      "metadata": {
        "id": "pASKb0qOza21"
      }
    },
    {
      "cell_type": "markdown",
      "source": [
        "# **Conclusion**"
      ],
      "metadata": {
        "id": "gCX9965dhzqZ"
      }
    },
    {
      "cell_type": "markdown",
      "source": [
        "Based on the various questions...\n",
        "\n",
        "Developers should focus on developing and improving apps in popular categories like games, photography, and communication, while maintaining high app ratings and prioritizing user feedback to improve the overall user experience. They should also explore other revenue options in popular categories and update their apps frequently to keep users engaged and satisfied.\n",
        "\n",
        "Users should consider both the average rating and rating distribution when deciding whether to download a free or paid app and be aware that apps in different categories have different average sizes. They should also pay attention to app content ratings and prioritize their device storage needs when managing their apps.\n",
        "\n",
        "Businesses should prioritize their investments and efforts in high-revenue categories while being mindful of user demand and competition. They should also consider alternative revenue streams and rethink their business strategy if working in lower revenue categories.\n",
        "\n",
        "Overall, the app market is highly competitive, and developers and businesses must continually strive to improve their apps' quality and user experience to stand out in the crowded market. Users, on the other hand, can make informed decisions about which apps to download based on ratings, reviews, size, and content rating, among other factors."
      ],
      "metadata": {
        "id": "Fjb1IsQkh3yE"
      }
    },
    {
      "cell_type": "markdown",
      "source": [
        "### ***Hurrah! You have successfully completed your EDA Capstone Project !!!***"
      ],
      "metadata": {
        "id": "gIfDvo9L0UH2"
      }
    }
  ]
}